{
 "cells": [
  {
   "cell_type": "markdown",
   "id": "0ab43a76",
   "metadata": {},
   "source": [
    "1) Create an assert statement that throws an AssertionError if the variable spam is a negative integer.\n",
    "\n",
    ":- assert spam>=10"
   ]
  },
  {
   "cell_type": "markdown",
   "id": "9488f708",
   "metadata": {},
   "source": [
    "2) Write an assert statement that triggers an AssertionError if the variables eggs and bacon contain\n",
    "   strings that are the same as each other, even if their cases are different (that is,'hello' and 'hello' are\n",
    "   considered the same, and 'goodbye' and 'GOODbye' are also considered the same).\n",
    "   \n",
    ":- assert eggs.lower() != bacon.lower(), 'The eggs and bacon variables are the same!' or assert eggs.upper()\n",
    "!=bacon.upper(), 'The eggs and bacon variables are the same!'         "
   ]
  },
  {
   "cell_type": "markdown",
   "id": "722a0679",
   "metadata": {},
   "source": [
    "3) Create an assert statement that throws an AssertionError every time.\n",
    "\n",
    ":- assert false"
   ]
  },
  {
   "cell_type": "markdown",
   "id": "d97378d3",
   "metadata": {},
   "source": [
    "4) What are the two lines that must be present in your software in order to call logging.debug() ?\n",
    "\n",
    ":- import logging\n",
    "   logging.basicConfig(level=logging.DEBUG,format=%(asctime)s-\n",
    "                      %(levelname)s - %(message)s) "
   ]
  },
  {
   "cell_type": "markdown",
   "id": "e0c1d883",
   "metadata": {},
   "source": [
    "5) What are the two lines that your program must have in order to have logging.debug() send a\n",
    "logging message to a file named programLog.txt ?\n",
    "\n",
    ":- import logging\n",
    "\n",
    "logging.basicConfig(filename='programLog.txt', level=logging.DEBUG,\n",
    "\n",
    "format=' %(asctime)s - %(levelname)s - %(message)s')"
   ]
  },
  {
   "cell_type": "markdown",
   "id": "6e32e1a3",
   "metadata": {},
   "source": [
    "6) What are the five levels of logging ?\n",
    "\n",
    ":- DEBUG,INFO,WARNING,ERROR and CRITICAL"
   ]
  },
  {
   "cell_type": "markdown",
   "id": "955d8de1",
   "metadata": {},
   "source": [
    "7) What line of a code would you add to your software to disable all logging message ?\n",
    "\n",
    ":- logging.disable(logging.CRITICAL)"
   ]
  },
  {
   "cell_type": "markdown",
   "id": "50b4bb9b",
   "metadata": {},
   "source": [
    "8) Why is using logging messages better than using print() to display the same message ?\n",
    "\n",
    ":- You disable logging message without removing logging function calls. You can selectively disabled lower-level\n",
    "   logging messages. You can create logging messages. Logging messages having timestamp "
   ]
  },
  {
   "cell_type": "markdown",
   "id": "1c4f7a3d",
   "metadata": {},
   "source": [
    "9) What are the differences between the Step Over, Step In, and Step Out buttons in the debugger ?\n",
    "\n",
    ":- The Step button will move the debugger into a function call.The Over button will quickly execute the function call \n",
    "    without stepping into it.The Out button will quickly execute the rest of the code \n",
    "    until it steps out of the function it currently is in."
   ]
  },
  {
   "cell_type": "markdown",
   "id": "06dfda32",
   "metadata": {},
   "source": [
    "10) After you click Continue, when will the debugger stop?\n",
    "\n",
    ":- After you click continue, the debugger will stop when it has reached the end of the program or a line with a breakpoint."
   ]
  },
  {
   "cell_type": "markdown",
   "id": "5a2c8aee",
   "metadata": {},
   "source": [
    "11) What is the concept of a breakpoint?\n",
    "\n",
    ":- The breakpoint is setting on a line of code that causes debugger to pause when program execution reaches the line."
   ]
  }
 ],
 "metadata": {
  "kernelspec": {
   "display_name": "Python 3 (ipykernel)",
   "language": "python",
   "name": "python3"
  },
  "language_info": {
   "codemirror_mode": {
    "name": "ipython",
    "version": 3
   },
   "file_extension": ".py",
   "mimetype": "text/x-python",
   "name": "python",
   "nbconvert_exporter": "python",
   "pygments_lexer": "ipython3",
   "version": "3.9.7"
  }
 },
 "nbformat": 4,
 "nbformat_minor": 5
}
